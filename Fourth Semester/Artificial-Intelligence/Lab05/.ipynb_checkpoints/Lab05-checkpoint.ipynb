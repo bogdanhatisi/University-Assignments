{
 "cells": [
  {
   "cell_type": "code",
   "execution_count": 53,
   "id": "45acf3ab",
   "metadata": {},
   "outputs": [],
   "source": [
    "import math\n",
    "from math import sqrt\n",
    "import os\n",
    "import pandas as pds\n",
    "import matplotlib.pyplot as plt"
   ]
  },
  {
   "cell_type": "code",
   "execution_count": 62,
   "id": "86481d8b",
   "metadata": {},
   "outputs": [
    {
     "name": "stdout",
     "output_type": "stream",
     "text": [
      "0     191\n",
      "1     189\n",
      "2     193\n",
      "3     162\n",
      "4     189\n",
      "5     182\n",
      "6     211\n",
      "7     167\n",
      "8     176\n",
      "9     154\n",
      "10    169\n",
      "11    166\n",
      "12    154\n",
      "13    247\n",
      "14    193\n",
      "15    202\n",
      "16    176\n",
      "17    157\n",
      "18    156\n",
      "19    138\n",
      "Name: Weight, dtype: int64\n"
     ]
    }
   ],
   "source": [
    "#Reading the data\n",
    "sports = pds.read_csv(\"sport.csv\")\n",
    "flowers = pds.read_csv(\"flowers.csv\")\n",
    "                      \n",
    "print(sports['Weight'])"
   ]
  },
  {
   "cell_type": "code",
   "execution_count": 55,
   "id": "087af12e",
   "metadata": {},
   "outputs": [],
   "source": [
    "def plotRealvsComputed(realOutputs,computedOutputs):\n",
    "    indexes = [i for i in range(len(realOutputs))]\n",
    "    real, = plt.plot(indexes, realOutputs, 'ro', label = 'real')\n",
    "    computed, = plt.plot(indexes, computedOutputs, 'bo', label = 'computed')\n",
    "    plt.legend([real, (real, computed)], [\"Real\", \"Computed\"])\n",
    "    plt.show()"
   ]
  },
  {
   "cell_type": "code",
   "execution_count": 56,
   "id": "40c8fb38",
   "metadata": {},
   "outputs": [
    {
     "data": {
      "image/png": "[encoded data removed]",
      "text/plain": [
       "<Figure size 640x480 with 1 Axes>"
      ]
     },
     "metadata": {},
     "output_type": "display_data"
    }
   ],
   "source": [
    "waistReal = sports.loc[:,\"Waist\"].values.tolist()\n",
    "waistPredicted = sports.loc[:,\"PredictedWaist\"].values.tolist()\n",
    "\n",
    "plotRealvsComputed(waistReal,waistPredicted)"
   ]
  },
  {
   "cell_type": "code",
   "execution_count": 57,
   "id": "0f520b34",
   "metadata": {},
   "outputs": [],
   "source": [
    "def calculateMAE(realOutputs,computedOutputs):\n",
    "    error = sum(abs(r - c) for r, c in zip(realOutputs, computedOutputs)) / len(realOutputs)\n",
    "    return error\n",
    "\n",
    "def calculateRMSE(realOutputs,computedOutputs):\n",
    "    error = sqrt(sum((r - c) ** 2 for r, c in zip(realOutputs, computedOutputs)) / len(realOutputs))\n",
    "    return error"
   ]
  },
  {
   "cell_type": "code",
   "execution_count": 58,
   "id": "30077c2a",
   "metadata": {},
   "outputs": [],
   "source": [
    "weightReal = sports.loc[:,\"Weight\"].values.tolist()\n",
    "weightPredicted = sports.loc[:,\"PredictedWeight\"].values.tolist()\n",
    "\n",
    "pulseReal = sports.loc[:,\"Pulse\"].values.tolist()\n",
    "pulsePredicted = sports.loc[:,\"PredictedPulse\"].values.tolist()\n"
   ]
  },
  {
   "cell_type": "code",
   "execution_count": 59,
   "id": "c78ba6a3",
   "metadata": {},
   "outputs": [
    {
     "name": "stdout",
     "output_type": "stream",
     "text": [
      "MAE for:\n",
      "\n",
      "Weight\n",
      "4.95\n",
      "\n",
      " Waist\n",
      "1.35\n",
      "\n",
      " Pulse\n",
      "1.85\n"
     ]
    }
   ],
   "source": [
    "# L1 \n",
    "print(\"MAE for:\\n\")\n",
    "print(\"Weight\")\n",
    "print(calculateMAE(weightReal,weightPredicted))\n",
    "\n",
    "print(\"\\n Waist\")\n",
    "print(calculateMAE(waistReal,waistPredicted))\n",
    "\n",
    "print(\"\\n Pulse\")\n",
    "print(calculateMAE(pulseReal,pulsePredicted))\n"
   ]
  },
  {
   "cell_type": "code",
   "execution_count": 60,
   "id": "b1e4ce45",
   "metadata": {},
   "outputs": [
    {
     "name": "stdout",
     "output_type": "stream",
     "text": [
      "RMSE for:\n",
      "\n",
      "Weight\n",
      "5.953990258641679\n",
      "\n",
      " Waist\n",
      "1.5652475842498528\n",
      "\n",
      " Pulse\n",
      "2.3345235059857505\n"
     ]
    }
   ],
   "source": [
    "#L2\n",
    "print(\"RMSE for:\\n\")\n",
    "print(\"Weight\")\n",
    "print(calculateRMSE(weightReal,weightPredicted))\n",
    "\n",
    "print(\"\\n Waist\")\n",
    "print(calculateRMSE(waistReal,waistPredicted))\n",
    "\n",
    "print(\"\\n Pulse\")\n",
    "print(calculateRMSE(pulseReal,pulsePredicted))"
   ]
  },
  {
   "cell_type": "code",
   "execution_count": 83,
   "id": "8f82bec6",
   "metadata": {},
   "outputs": [],
   "source": [
    "def calculateLossRegression(real, computed):\n",
    "    err = 0\n",
    "    for r,c in zip(real, computed):\n",
    "        err += abs(r-c)\n",
    "    return err"
   ]
  },
  {
   "cell_type": "code",
   "execution_count": 84,
   "id": "20c16f37",
   "metadata": {},
   "outputs": [
    {
     "name": "stdout",
     "output_type": "stream",
     "text": [
      "Total loss regression:  163\n"
     ]
    }
   ],
   "source": [
    "lossRegressionWaist = calculateLossRegression(waistReal,waistPredicted)\n",
    "lossRegressionWeight = calculateLossRegression(weightReal,weightPredicted)\n",
    "lossRegressionPulse = calculateLossRegression(pulseReal,pulsePredicted)\n",
    "sumRegression = lossRegressionWaist + lossRegressionWeight + lossRegressionPulse\n",
    "print(\"Total loss regression: \",sumRegression)\n"
   ]
  },
  {
   "cell_type": "code",
   "execution_count": 66,
   "id": "143b61c1",
   "metadata": {},
   "outputs": [
    {
     "name": "stdout",
     "output_type": "stream",
     "text": [
      "     Type PredictedType\n",
      "0   Daisy         Daisy\n",
      "1   Tulip         Daisy\n",
      "2    Rose         Tulip\n",
      "3   Daisy         Daisy\n",
      "4   Daisy          Rose\n",
      "5   Daisy         Tulip\n",
      "6    Rose          Rose\n",
      "7    Rose         Daisy\n",
      "8   Daisy          Rose\n",
      "9   Tulip         Tulip\n",
      "10   Rose         Tulip\n",
      "11  Daisy          Rose\n",
      "12  Daisy         Tulip\n",
      "13  Daisy         Daisy\n",
      "14  Daisy         Tulip\n",
      "15  Tulip          Rose\n",
      "16  Daisy         Daisy\n",
      "17   Rose         Daisy\n",
      "18  Tulip         Daisy\n",
      "19   Rose          Rose\n",
      "20  Daisy          Rose\n",
      "21   Rose         Daisy\n",
      "22  Tulip         Tulip\n",
      "23  Tulip          Rose\n",
      "24   Rose         Daisy\n",
      "25  Tulip         Daisy\n"
     ]
    }
   ],
   "source": [
    "print(flowers)"
   ]
  },
  {
   "cell_type": "code",
   "execution_count": 70,
   "id": "a18d99c0",
   "metadata": {},
   "outputs": [],
   "source": [
    "def evalClassification(real,computed,label):\n",
    "    accuracy = sum([1 if real[i] == computed[i] else 0 for i in range(len(real))]) / len(real)\n",
    "    TP = sum(\n",
    "        [1 if (real[i] == label and computed[i] == label) else 0 for i in range(len(real))])\n",
    "    FP = sum(\n",
    "        [1 if (real[i] != label and computed[i] == label) else 0 for i in range(len(real))])\n",
    "    TN = sum(\n",
    "        [1 if (real[i] != label and computed[i] != label) else 0 for i in range(len(real))])\n",
    "    FN = sum(\n",
    "        [1 if (real[i] == label and computed[i] != label) else 0 for i in range(len(real))])\n",
    "    \n",
    "    precision = TP/(TP+FP)\n",
    "    recall = TP/(TP+FN)\n",
    "    \n",
    "    return accuracy,precision,recall\n",
    "    "
   ]
  },
  {
   "cell_type": "code",
   "execution_count": 74,
   "id": "60606894",
   "metadata": {},
   "outputs": [
    {
     "name": "stdout",
     "output_type": "stream",
     "text": [
      "Accuracy:  0.3076923076923077\n",
      "Precision for Daisy:  0.36363636363636365\n",
      "Recall for Daisy:  0.36363636363636365\n",
      "Precision for Tulip:  0.2857142857142857\n",
      "Recall for Tulip:  0.2857142857142857\n",
      "Precision for Rose:  0.25\n",
      "Recall for Rose:  0.25\n"
     ]
    }
   ],
   "source": [
    "acc, precDaisy, recallDaisy = evalClassification(flowers['Type'],flowers['PredictedType'],\"Daisy\")\n",
    "acc, precTulip, recallTulip = evalClassification(flowers['Type'],flowers['PredictedType'],\"Tulip\")\n",
    "acc, precRose, recallRose = evalClassification(flowers['Type'],flowers['PredictedType'],\"Rose\")\n",
    "print(\"Accuracy: \", acc)\n",
    "print(\"Precision for Daisy: \",precDaisy)\n",
    "print(\"Recall for Daisy: \",recallDaisy)\n",
    "print(\"Precision for Tulip: \",precTulip)\n",
    "print(\"Recall for Tulip: \",recallTulip)\n",
    "print(\"Precision for Rose: \",precRose)\n",
    "print(\"Recall for Rose: \",recallRose)\n",
    "\n",
    "\n"
   ]
  },
  {
   "cell_type": "code",
   "execution_count": 88,
   "id": "bd554bdb",
   "metadata": {},
   "outputs": [],
   "source": [
    "def evalLossBinary(real, computed, pos):\n",
    "    realOutputs = [[1,0] if label == pos else [0,1] for label in real]\n",
    "    noClasses = len(set(real))\n",
    "    dsCrossEntropy = 0.0\n",
    "    for i in range(len(real)):\n",
    "        dsCrossEntropy = dsCrossEntropy + (-sum([realOutputs[i][j] * math.log(computed[i][j]) for j in range(noClasses)]))\n",
    "    CE = dsCrossEntropy / len(real)\n",
    "    \n",
    "    return CE"
   ]
  },
  {
   "cell_type": "code",
   "execution_count": 92,
   "id": "a72eebb3",
   "metadata": {},
   "outputs": [],
   "source": [
    "exampleReal=[\"blue\",\"red\",\"red\",\"red\",\"blue\"]\n",
    "exampleOutputs=[[0.4,0.6],[0.1,0.9],[0.2,0.8],[0.9,0.1],[0.5,0.5]]\n"
   ]
  },
  {
   "cell_type": "code",
   "execution_count": 93,
   "id": "d3b7367e",
   "metadata": {},
   "outputs": [
    {
     "name": "stdout",
     "output_type": "stream",
     "text": [
      "Binary loss: 0.8481054144800364\n"
     ]
    }
   ],
   "source": [
    "print(\"Binary loss:\",evalLossBinary(exampleReal,exampleOutputs,\"blue\"))"
   ]
  },
  {
   "cell_type": "code",
   "execution_count": 98,
   "id": "c3e87765",
   "metadata": {},
   "outputs": [],
   "source": [
    "def evalLossMultiClass(target,prediction):\n",
    "    val = [math.exp(x) for x in prediction]\n",
    "    valSum = sum(val)\n",
    "    predictions = [value / valSum for value in val]\n",
    "    CrossEntropy = - sum([target[j] * math.log(predictions[j]) for j in range(len(target))])\n",
    "    return CrossEntropy"
   ]
  },
  {
   "cell_type": "code",
   "execution_count": 101,
   "id": "96832d8d",
   "metadata": {},
   "outputs": [
    {
     "name": "stdout",
     "output_type": "stream",
     "text": [
      "Multi class loss: 0.6897266409702164\n"
     ]
    }
   ],
   "source": [
    "target = [1,0,0]\n",
    "predicted = [0.8,0.1,0.1]\n",
    "print(\"Multi class loss:\",evalLossMultiClass(target,predicted))"
   ]
  },
  {
   "cell_type": "code",
   "execution_count": null,
   "id": "a3762a8c",
   "metadata": {},
   "outputs": [],
   "source": [
    "\n"
   ]
  },
  {
   "cell_type": "code",
   "execution_count": null,
   "id": "3c0e0615",
   "metadata": {},
   "outputs": [],
   "source": []
  },
  {
   "cell_type": "code",
   "execution_count": null,
   "id": "d6d1b78e",
   "metadata": {},
   "outputs": [],
   "source": []
  }
 ],
 "metadata": {
  "kernelspec": {
   "display_name": "Python 3 (ipykernel)",
   "language": "python",
   "name": "python3"
  },
  "language_info": {
   "codemirror_mode": {
    "name": "ipython",
    "version": 3
   },
   "file_extension": ".py",
   "mimetype": "text/x-python",
   "name": "python",
   "nbconvert_exporter": "python",
   "pygments_lexer": "ipython3",
   "version": "3.9.13"
  }
 },
 "nbformat": 4,
 "nbformat_minor": 5
}
