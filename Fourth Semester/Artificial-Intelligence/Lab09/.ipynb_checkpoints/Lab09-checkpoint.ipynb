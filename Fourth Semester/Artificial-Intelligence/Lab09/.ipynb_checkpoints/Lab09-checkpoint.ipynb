{
 "cells": [
  {
   "cell_type": "code",
   "execution_count": 14,
   "id": "0cdae464",
   "metadata": {},
   "outputs": [],
   "source": [
    "import sys\n",
    "import numpy as np\n",
    "import matplotlib\n",
    "\n",
    "np.random.seed(0)"
   ]
  },
  {
   "cell_type": "code",
   "execution_count": 15,
   "id": "77d2ae79",
   "metadata": {},
   "outputs": [
    {
     "name": "stdout",
     "output_type": "stream",
     "text": [
      "[[ 0.5031  -1.04185 -2.03875]\n",
      " [ 0.2434  -2.7332  -5.7633 ]\n",
      " [-0.99314  1.41254 -0.35655]]\n"
     ]
    }
   ],
   "source": [
    "X = [[1,2,3,2.5],\n",
    "          [2.0,5.0,-1.0,2.0],\n",
    "          [-1.5,2.7,3.3,-0.8]\n",
    "         ]\n",
    "          \n",
    "          \n",
    "\n",
    "\n",
    "weights =[[0.2,0.8,-0.5,1.0],\n",
    "          [0.5,-0.91,0.26,-0.5],\n",
    "          [-0.26,-0.27,0.17,0.87]  \n",
    "]\n",
    "\n",
    "\n",
    "biases = [2,3,0.5]\n",
    "\n",
    "\n",
    "weights2 =[[0.1,-0.14,0.5],\n",
    "          [-0.5,0.12,-0.33],\n",
    "          [-0.44,0.73,-0.13]  \n",
    "]\n",
    "\n",
    "\n",
    "biases2 = [-1,2,-0.5 ]\n",
    "layer1_outputs = np.dot(inputs,np.array(weights).T) +biases\n",
    "layer2_outputs = np.dot(layer1_outputs,np.array(weights2).T) +biases2\n",
    "\n",
    "print(layer2_outputs)\n",
    "\n",
    "layer_outputs= []\n",
    "\n",
    "# for neuron_weights, neuron_bias in zip(weights,biases):\n",
    "#     neuron_output = 0\n",
    "#     for n_input, weight in zip(inputs,neuron_weights):\n",
    "#         neuron_output += n_input*weight\n",
    "#     neuron_output += neuron_bias\n",
    "#     layer_outputs.append(neuron_output)\n",
    "    \n",
    "# print(layer_outputs)"
   ]
  },
  {
   "cell_type": "code",
   "execution_count": 30,
   "id": "f329d58a",
   "metadata": {},
   "outputs": [],
   "source": [
    "class Layer_Dense:\n",
    "    def __init__(self,n_inputs,n_neurons):\n",
    "        self.weights = 0.10 * np.random.randn(n_inputs,n_neurons)\n",
    "        self.biases = np.zeros((1, n_neurons),dtype=float)\n",
    "    def forward(self,inputs):\n",
    "        self.output = np.dot(inputs, self.weights) + self.biases\n",
    "        \n",
    "    "
   ]
  },
  {
   "cell_type": "code",
   "execution_count": 32,
   "id": "babc8c97",
   "metadata": {},
   "outputs": [
    {
     "name": "stdout",
     "output_type": "stream",
     "text": [
      "[[ 0.09656179  0.0796788 ]\n",
      " [ 0.08040857  0.15490562]\n",
      " [-0.00777899  0.08823907]]\n"
     ]
    }
   ],
   "source": [
    "layer1 = Layer_Dense(4,5)\n",
    "layer2 = Layer_Dense(5,2)\n",
    "\n",
    "layer1.forward(X)\n",
    "# print(layer1.output)\n",
    "\n",
    "layer2.forward(layer1.output)\n",
    "print(layer2.output)"
   ]
  },
  {
   "cell_type": "code",
   "execution_count": null,
   "id": "1da4c8cf",
   "metadata": {},
   "outputs": [],
   "source": []
  }
 ],
 "metadata": {
  "kernelspec": {
   "display_name": "Python 3 (ipykernel)",
   "language": "python",
   "name": "python3"
  },
  "language_info": {
   "codemirror_mode": {
    "name": "ipython",
    "version": 3
   },
   "file_extension": ".py",
   "mimetype": "text/x-python",
   "name": "python",
   "nbconvert_exporter": "python",
   "pygments_lexer": "ipython3",
   "version": "3.9.13"
  }
 },
 "nbformat": 4,
 "nbformat_minor": 5
}
